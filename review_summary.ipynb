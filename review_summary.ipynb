{
 "cells": [
  {
   "cell_type": "code",
   "execution_count": 45,
   "metadata": {},
   "outputs": [],
   "source": [
    "import pandas as pd\n",
    "import nltk\n",
    "from nltk.corpus import stopwords\n",
    "from nltk.tokenize import word_tokenize,sent_tokenize\n",
    "from nltk.stem import WordNetLemmatizer\n",
    "wo=WordNetLemmatizer()\n",
    "stop_words = set(stopwords.words('english'))\n",
    "import collections"
   ]
  },
  {
   "cell_type": "code",
   "execution_count": 4,
   "metadata": {},
   "outputs": [],
   "source": [
    "df=pd.read_csv('apple1n.csv')"
   ]
  },
  {
   "cell_type": "code",
   "execution_count": 44,
   "metadata": {},
   "outputs": [
    {
     "data": {
      "text/html": [
       "<div>\n",
       "<style scoped>\n",
       "    .dataframe tbody tr th:only-of-type {\n",
       "        vertical-align: middle;\n",
       "    }\n",
       "\n",
       "    .dataframe tbody tr th {\n",
       "        vertical-align: top;\n",
       "    }\n",
       "\n",
       "    .dataframe thead th {\n",
       "        text-align: right;\n",
       "    }\n",
       "</style>\n",
       "<table border=\"1\" class=\"dataframe\">\n",
       "  <thead>\n",
       "    <tr style=\"text-align: right;\">\n",
       "      <th></th>\n",
       "      <th>Unnamed: 0</th>\n",
       "      <th>Product Name</th>\n",
       "      <th>Reviews</th>\n",
       "    </tr>\n",
       "  </thead>\n",
       "  <tbody>\n",
       "    <tr>\n",
       "      <td>0</td>\n",
       "      <td>3081</td>\n",
       "      <td>Apple iPhone 5c</td>\n",
       "      <td>Was a gift for my husband and he loves it. Rep...</td>\n",
       "    </tr>\n",
       "    <tr>\n",
       "      <td>1</td>\n",
       "      <td>3082</td>\n",
       "      <td>Apple iPhone 5c</td>\n",
       "      <td>Great price, extremely fast shipping works as ...</td>\n",
       "    </tr>\n",
       "    <tr>\n",
       "      <td>2</td>\n",
       "      <td>3083</td>\n",
       "      <td>Apple iPhone 5c</td>\n",
       "      <td>Moving from Android to Apple...my kids have th...</td>\n",
       "    </tr>\n",
       "    <tr>\n",
       "      <td>3</td>\n",
       "      <td>3084</td>\n",
       "      <td>Apple iPhone 5c</td>\n",
       "      <td>It is compatible with Verizon. Not pink but PE...</td>\n",
       "    </tr>\n",
       "    <tr>\n",
       "      <td>4</td>\n",
       "      <td>3085</td>\n",
       "      <td>Apple iPhone 5c</td>\n",
       "      <td>I love this phone! Thank you so much.</td>\n",
       "    </tr>\n",
       "    <tr>\n",
       "      <td>...</td>\n",
       "      <td>...</td>\n",
       "      <td>...</td>\n",
       "      <td>...</td>\n",
       "    </tr>\n",
       "    <tr>\n",
       "      <td>41465</td>\n",
       "      <td>74156</td>\n",
       "      <td>Apple iPhone 7</td>\n",
       "      <td>Delivered on time, unlocked, exactly as advert...</td>\n",
       "    </tr>\n",
       "    <tr>\n",
       "      <td>41466</td>\n",
       "      <td>74157</td>\n",
       "      <td>Apple iPhone 7</td>\n",
       "      <td>I love it</td>\n",
       "    </tr>\n",
       "    <tr>\n",
       "      <td>41467</td>\n",
       "      <td>74158</td>\n",
       "      <td>Apple iPhone 7</td>\n",
       "      <td>I love it</td>\n",
       "    </tr>\n",
       "    <tr>\n",
       "      <td>41468</td>\n",
       "      <td>74159</td>\n",
       "      <td>Apple iPhone 7</td>\n",
       "      <td>Actually I wanted the plus but I order the reg...</td>\n",
       "    </tr>\n",
       "    <tr>\n",
       "      <td>41469</td>\n",
       "      <td>74160</td>\n",
       "      <td>Apple iPhone 7</td>\n",
       "      <td>To be honest I was very disappointed, the phon...</td>\n",
       "    </tr>\n",
       "  </tbody>\n",
       "</table>\n",
       "<p>41470 rows × 3 columns</p>\n",
       "</div>"
      ],
      "text/plain": [
       "       Unnamed: 0     Product Name  \\\n",
       "0            3081  Apple iPhone 5c   \n",
       "1            3082  Apple iPhone 5c   \n",
       "2            3083  Apple iPhone 5c   \n",
       "3            3084  Apple iPhone 5c   \n",
       "4            3085  Apple iPhone 5c   \n",
       "...           ...              ...   \n",
       "41465       74156   Apple iPhone 7   \n",
       "41466       74157   Apple iPhone 7   \n",
       "41467       74158   Apple iPhone 7   \n",
       "41468       74159   Apple iPhone 7   \n",
       "41469       74160   Apple iPhone 7   \n",
       "\n",
       "                                                 Reviews  \n",
       "0      Was a gift for my husband and he loves it. Rep...  \n",
       "1      Great price, extremely fast shipping works as ...  \n",
       "2      Moving from Android to Apple...my kids have th...  \n",
       "3      It is compatible with Verizon. Not pink but PE...  \n",
       "4                  I love this phone! Thank you so much.  \n",
       "...                                                  ...  \n",
       "41465  Delivered on time, unlocked, exactly as advert...  \n",
       "41466                                          I love it  \n",
       "41467                                          I love it  \n",
       "41468  Actually I wanted the plus but I order the reg...  \n",
       "41469  To be honest I was very disappointed, the phon...  \n",
       "\n",
       "[41470 rows x 3 columns]"
      ]
     },
     "execution_count": 44,
     "metadata": {},
     "output_type": "execute_result"
    }
   ],
   "source": [
    "df"
   ]
  },
  {
   "cell_type": "code",
   "execution_count": 6,
   "metadata": {},
   "outputs": [],
   "source": [
    "l=list(set(list(df['Product Name'])))\n",
    "l.remove('Apple iPhone 4s')"
   ]
  },
  {
   "cell_type": "code",
   "execution_count": 8,
   "metadata": {},
   "outputs": [
    {
     "name": "stdout",
     "output_type": "stream",
     "text": [
      "Apple iPhone 5\n",
      "Apple iPhone 7+\n",
      "Apple iPhone 7\n",
      "Apple iPhone 5s\n",
      "Apple iPhone 6\n",
      "Apple iPhone 6s+\n",
      "Apple iPhone 6s\n",
      "Apple iPhone 5c\n"
     ]
    }
   ],
   "source": [
    "for item in l:\n",
    "    print(item)"
   ]
  },
  {
   "cell_type": "code",
   "execution_count": 7,
   "metadata": {},
   "outputs": [],
   "source": [
    "for x in l:\n",
    "    f1=open(x+'.txt','w',encoding='utf8')\n",
    "    for i in df[df['Product Name']==x]['Reviews']:\n",
    "        f1.write(\"%s\\n\"%i)\n",
    "    f1.close()"
   ]
  },
  {
   "cell_type": "code",
   "execution_count": 9,
   "metadata": {},
   "outputs": [
    {
     "name": "stdout",
     "output_type": "stream",
     "text": [
      "Removal of stop words is done in Apple iPhone 5\n",
      "-------------------------------------------------------------------------------------------------\n",
      "Removal of stop words is done in Apple iPhone 7+\n",
      "-------------------------------------------------------------------------------------------------\n",
      "Removal of stop words is done in Apple iPhone 7\n",
      "-------------------------------------------------------------------------------------------------\n",
      "Removal of stop words is done in Apple iPhone 5s\n",
      "-------------------------------------------------------------------------------------------------\n",
      "Removal of stop words is done in Apple iPhone 6\n",
      "-------------------------------------------------------------------------------------------------\n",
      "Removal of stop words is done in Apple iPhone 6s+\n",
      "-------------------------------------------------------------------------------------------------\n",
      "Removal of stop words is done in Apple iPhone 6s\n",
      "-------------------------------------------------------------------------------------------------\n",
      "Removal of stop words is done in Apple iPhone 5c\n",
      "-------------------------------------------------------------------------------------------------\n"
     ]
    }
   ],
   "source": [
    "for item in l:\n",
    "    f1=open(item+'.txt','r',encoding='utf8')\n",
    "    line=f1.readline()\n",
    "    applelist=[]\n",
    "    applelist.append(line)\n",
    "    for line in f1:\n",
    "        applelist.append(line)\n",
    "    print(\"Removal of stop words is done in \"+item)\n",
    "    print(\"-------------------------------------------------------------------------------------------------\")\n",
    "    f1.close()\n",
    "    f1=open(item+'.txt','w',encoding='utf8')\n",
    "    for i in applelist:\n",
    "        s=word_tokenize(i)\n",
    "        ne=\"\"\n",
    "        for w in s:\n",
    "            \n",
    "            if w not in stop_words:\n",
    "                ne=ne+w+\" \"\n",
    "        ne=ne+\"\\n\"\n",
    "        f1.write(ne)\n",
    "    f1.close()    "
   ]
  },
  {
   "cell_type": "code",
   "execution_count": 47,
   "metadata": {
    "scrolled": true
   },
   "outputs": [
    {
     "name": "stdout",
     "output_type": "stream",
     "text": [
      "Apple iPhone 5\n",
      "-------------------------------------------------------------------------------------------------------------------\n",
      "[('great phone', 327), ('good phone', 133), ('new phone', 94), ('i phone', 54), ('noticed battery', 44), ('bad phone', 43), ('nice phone', 41), ('unlocked phone', 38), ('great battery', 37), ('first phone', 35), ('good battery', 32), ('excellent phone', 32), ('bad battery', 24), ('happy phone', 23), ('i battery', 21), ('skeptical phone', 20), ('new battery', 19), ('low battery', 19), ('great screen', 16), ('t-mobile phone', 14)]\n",
      "----------------------------------------------------------------------------------------------------------------------\n",
      "Apple iPhone 7+\n",
      "-------------------------------------------------------------------------------------------------------------------\n",
      "[('dual camera', 85), ('black phone', 69), ('awesome phone', 62), ('lyca mobile', 40), ('specific phone', 32), ('full phone', 30), ('finger phone', 26), ('great camera', 24), ('sim phone', 22), ('good phone', 21), ('great phone', 19), ('unlocked phone', 18), ('5.5-ich screen', 15), ('finger screen', 13), ('new camera', 12), ('good battery', 12), ('i phone', 12), ('incredible camera', 10), ('korean phone', 10), ('good camera', 9)]\n",
      "----------------------------------------------------------------------------------------------------------------------\n",
      "Apple iPhone 7\n",
      "-------------------------------------------------------------------------------------------------------------------\n",
      "[('dual camera', 65), ('black phone', 54), ('great phone', 40), ('i phone', 27), ('large camera', 18), ('unresponsive camera', 18), ('good phone', 13), ('5.5-ich screen', 13), ('wonderful phone', 11), ('nice camera', 10), ('last phone', 10), ('fake phone', 10), ('original phone', 10), ('great design', 9), ('new phone', 9)]\n",
      "----------------------------------------------------------------------------------------------------------------------\n",
      "Apple iPhone 5s\n",
      "-------------------------------------------------------------------------------------------------------------------\n",
      "[('great phone', 992), ('good phone', 481), ('new phone', 416), ('excellent phone', 173), ('nice phone', 140), ('happy phone', 99), ('name.first phone', 96), ('serious phone', 96), ('i phone', 92), ('awesome phone', 83), ('first phone', 76), ('last battery', 54), ('disappointing phone', 50), ('good battery', 48), ('beautiful phone', 47), ('little phone', 42), ('great camera', 41), ('fantastic phone', 40), ('next phone', 36), ('horrible phone', 35)]\n",
      "----------------------------------------------------------------------------------------------------------------------\n",
      "Apple iPhone 6\n",
      "-------------------------------------------------------------------------------------------------------------------\n",
      "[('great phone', 506), ('good phone', 154), ('new phone', 114), ('nice phone', 101), ('excellent phone', 79), ('perfect phone', 77), ('first phone', 74), ('happy phone', 70), ('i phone', 65), ('unlocked phone', 53), ('awesome phone', 38), ('wrong phone', 37), ('big screen', 34), ('broken phone', 33), ('activate phone', 33), ('unlock phone', 30), ('smart phone', 25), ('front camera', 22), ('long screen', 19), ('beautiful phone', 18)]\n",
      "----------------------------------------------------------------------------------------------------------------------\n",
      "Apple iPhone 6s+\n",
      "-------------------------------------------------------------------------------------------------------------------\n",
      "[('great phone', 177), ('good phone', 134), ('new phone', 87), ('nice phone', 73), ('bright display', 48), ('full battery', 48), ('beautiful phone', 47), ('big screen', 45), ('incredible phone', 39), ('second phone', 37), ('careful phone', 33), ('fake phone', 32), ('defective phone', 28), ('nice screen', 26), ('big phone', 26), ('un phone', 24), ('bad phone', 24), ('good camera', 24), ('upper screen', 24), ('shutter camera', 22)]\n",
      "----------------------------------------------------------------------------------------------------------------------\n",
      "Apple iPhone 6s\n",
      "-------------------------------------------------------------------------------------------------------------------\n",
      "[('great phone', 19), ('good phone', 16), ('excellent phone', 13), ('pre-owned phone', 12), ('new phone', 6), ('awesome phone', 6), ('nice phone', 5), ('wrong phone', 5), ('dummy phone', 5), ('real phone', 5), ('unlocked phone', 4), ('i phone', 4), ('internal speaker', 4), ('box screen', 3), ('top mobile', 2), ('perfect phone', 2), ('broken screen', 2), ('defect screen', 2), ('right screen', 2), ('excellent mobile', 2)]\n",
      "----------------------------------------------------------------------------------------------------------------------\n",
      "Apple iPhone 5c\n",
      "-------------------------------------------------------------------------------------------------------------------\n",
      "[('great phone', 1691), ('good phone', 609), ('new phone', 581), ('nice phone', 228), ('first phone', 157), ('perfect phone', 152), ('small phone', 148), ('excellent phone', 134), ('i phone', 129), ('awesome phone', 111), ('wrong phone', 110), ('issues.first phone', 100), ('current phone', 98), ('happy phone', 87), ('refurbished phone', 86), ('unlocked phone', 86), ('beautiful phone', 84), ('sim phone', 80), ('problematic phone', 80), ('technician battery', 80)]\n",
      "----------------------------------------------------------------------------------------------------------------------\n",
      "Number of Phrases extracted :  20748\n"
     ]
    }
   ],
   "source": [
    "count=0\n",
    "\n",
    "aspects=('screen','battery','camera','speaker','network','memory','display','mobile','mike','microphone','design','accesories','earphone',\n",
    "         'flash','internet','bluetooth','sensors','phone','signal','wifi')#aspects set\n",
    "for item in l:\n",
    "    f1=open(item+'.txt','r',encoding='utf8')\n",
    "    line=f1.readline()\n",
    "    applelist=[]\n",
    "    line=line.lower()\n",
    "    applelist.append(line)\n",
    "    for line in f1:\n",
    "        line=line.lower()\n",
    "        applelist.append(line)#applelist contains all the reviews from a particular txt file and also it is converted to lowercase\n",
    "    f1.close()\n",
    "    summ=[]#list to store all the phrasal reviews\n",
    "    print(item)\n",
    "    print(\"-------------------------------------------------------------------------------------------------------------------\")\n",
    "    for i in applelist:\n",
    "        w=word_tokenize(i)\n",
    "        pos=nltk.pos_tag(w,tagset=\"universal\")#pos tagging      \n",
    "        for ite in pos:#in ite,ite[0] will have the word and ite[1] will have the pos tag\n",
    "            if ite[0] in aspects:\n",
    "                index=pos.index(ite)\n",
    "                prec=pos[index-1]\n",
    "                if prec[1]=='ADJ':\n",
    "                    adj=prec[0]\n",
    "                    adj=wo.lemmatize(adj,pos='a')\n",
    "                    if adj==\"best\":\n",
    "                        a=\"good\"+\" \"+ite[0]\n",
    "                    else:\n",
    "                        a=adj+\" \"+ite[0]\n",
    "                    \n",
    "                    summ.append(a)\n",
    "                    count=count+1\n",
    "                if index>1:\n",
    "                    prec=pos[index-2]\n",
    "                    if prec[1]=='ADJ':\n",
    "                        adj=prec[0]\n",
    "                        adj=wo.lemmatize(adj,pos='a')\n",
    "                        if adj==\"best\":\n",
    "                            a=\"good\"+\" \"+ite[0]\n",
    "                        else:\n",
    "                            a=adj+\" \"+ite[0]\n",
    "                        \n",
    "                        summ.append(a)\n",
    "                        count=count+1\n",
    "                if len(pos)-index>4:\n",
    "                    succ=pos[index+1]\n",
    "                    if succ[1]=='ADJ':\n",
    "                        adj=succ[0]\n",
    "                        adj=wo.lemmatize(adj,pos='a')\n",
    "                        if adj=='best':\n",
    "                            a='good'+\" \"+ite[0]\n",
    "                        else:\n",
    "                            a=adj+\" \"+ite[0]\n",
    "                        \n",
    "                        summ.append(a)\n",
    "                        count=count+1\n",
    "                    succ=pos[index+2]\n",
    "                    if succ[1]=='ADJ':\n",
    "                        adj=wo.lemmatize(adj,pos='a')\n",
    "                        if adj=='best':\n",
    "                            a='good'+\" \"+ite[0]\n",
    "                        else:\n",
    "                            a=adj+\" \"+ite[0]\n",
    "                        \n",
    "                        summ.append(a)\n",
    "                        count=count+1\n",
    "                \n",
    "    counter=collections.Counter(summ)\n",
    "    print(counter.most_common(20))\n",
    "    print(\"----------------------------------------------------------------------------------------------------------------------\")            \n",
    "print(\"Number of Phrases extracted : \",count)\n",
    "    \n",
    "                \n"
   ]
  },
  {
   "cell_type": "code",
   "execution_count": 48,
   "metadata": {},
   "outputs": [
    {
     "data": {
      "text/plain": [
       "'best'"
      ]
     },
     "execution_count": 48,
     "metadata": {},
     "output_type": "execute_result"
    }
   ],
   "source": [
    "wo.lemmatize('best',pos='a')"
   ]
  },
  {
   "cell_type": "code",
   "execution_count": null,
   "metadata": {},
   "outputs": [],
   "source": []
  }
 ],
 "metadata": {
  "kernelspec": {
   "display_name": "Python 3",
   "language": "python",
   "name": "python3"
  },
  "language_info": {
   "codemirror_mode": {
    "name": "ipython",
    "version": 3
   },
   "file_extension": ".py",
   "mimetype": "text/x-python",
   "name": "python",
   "nbconvert_exporter": "python",
   "pygments_lexer": "ipython3",
   "version": "3.7.4"
  }
 },
 "nbformat": 4,
 "nbformat_minor": 2
}
